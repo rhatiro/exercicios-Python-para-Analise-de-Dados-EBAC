{
  "cells": [
    {
      "cell_type": "markdown",
      "metadata": {
        "id": "KJqp9AANOCtf"
      },
      "source": [
        "<img src=\"https://raw.githubusercontent.com/andre-marcos-perez/ebac-course-utils/main/media/logo/newebac_logo_black_half.png\" alt=\"ebac-logo\">\n",
        "\n",
        "---\n",
        "\n",
        "# **Módulo** | Python: Fluxo Condicional & Repetição\n",
        "Caderno de **Exercícios**<br> \n",
        "Professor [André Perez](https://www.linkedin.com/in/andremarcosperez/)\n",
        "\n",
        "Aluno [Roberto Hatiro](https://www.linkedin.com/in/rhatiro/)<br>\n",
        "Data: 05 de janeiro de 2023.\n",
        "\n",
        "---"
      ]
    },
    {
      "cell_type": "markdown",
      "metadata": {
        "id": "d9jDtUbDOE1-"
      },
      "source": [
        "# **Tópicos**\n",
        "\n",
        "<ol type=\"1\">\n",
        "  <li>Estrutura condicional if / else / elif;</li>\n",
        "  <li>Estrutura condicional try / catch / finally;</li>\n",
        "  <li>Estrutura de repetição for / in.</li>\n",
        "</ol>"
      ]
    },
    {
      "cell_type": "markdown",
      "metadata": {
        "id": "SmoHgt-lwkpD"
      },
      "source": [
        "---"
      ]
    },
    {
      "cell_type": "markdown",
      "metadata": {
        "id": "GABI6OW8OfQ2"
      },
      "source": [
        "# **Exercícios**"
      ]
    },
    {
      "cell_type": "markdown",
      "metadata": {
        "id": "9gIFfSRRNE47"
      },
      "source": [
        "## 1\\. Estrutura condicional for / in"
      ]
    },
    {
      "cell_type": "markdown",
      "metadata": {
        "id": "rVf7VYiTNE49"
      },
      "source": [
        "Na lista `propaganda_online` abaixo, estão presente os dados de usuários que acessaram um determinado site e se o mesmo clicou em uma propaganda."
      ]
    },
    {
      "cell_type": "code",
      "execution_count": 1,
      "metadata": {
        "id": "L8wJcgtBNE49"
      },
      "outputs": [],
      "source": [
        "propaganda_online = [\n",
        "  {'tempo_gasto_site': 68.95, 'idade': 35, 'renda_area': 61833.90, 'tempo_gasto_internet': 256.09, 'cidade': 'Wrightburgh', 'pais': 'Tunisia', 'clicou_no_ad': 0},\n",
        "  {'tempo_gasto_site': 80.23, 'idade': 31, 'renda_area': 68441.85, 'tempo_gasto_internet': 193.77, 'cidade': 'West Jodi', 'pais': 'Nauru', 'clicou_no_ad': 0},\n",
        "  {'tempo_gasto_site': 69.47, 'idade': 26, 'renda_area': 59785.94, 'tempo_gasto_internet': 236.50, 'cidade': 'Davidton', 'pais': 'San Marino', 'clicou_no_ad': 0},\n",
        "  {'tempo_gasto_site': 68.37, 'idade': 35, 'renda_area': 73889.99, 'tempo_gasto_internet': 225.58, 'cidade': 'South Manuel', 'pais': 'Iceland', 'clicou_no_ad': 0},\n",
        "  {'tempo_gasto_site': 88.91, 'idade': 33, 'renda_area': 53852.85, 'tempo_gasto_internet': 208.36, 'cidade': 'Brandonstad', 'pais': 'Myanmar', 'clicou_no_ad': 0},\n",
        "  {'tempo_gasto_site': None, 'idade': 48, 'renda_area': 24593.33, 'tempo_gasto_internet': 131.76, 'cidade': 'Port Jefferybury', 'pais': 'Australia', 'clicou_no_ad': 1},\n",
        "  {'tempo_gasto_site': 74.53, 'idade': 30, 'renda_area': 68862.00, 'tempo_gasto_internet': 221.51, 'cidade': 'West Colin', 'pais': 'Grenada'},\n",
        "  {'tempo_gasto_site': 69.88, 'idade': 20, 'renda_area': 55642.32, 'tempo_gasto_internet': 183.82, 'cidade': 'Ramirezton', 'pais': 'Ghana', 'clicou_no_ad': 0}\n",
        "]"
      ]
    },
    {
      "cell_type": "code",
      "execution_count": 2,
      "metadata": {
        "id": "cyMWqs_t8pWA",
        "colab": {
          "base_uri": "https://localhost:8080/"
        },
        "outputId": "7d22f7ec-62f5-4e4a-d843-97003fcc85f1"
      },
      "outputs": [
        {
          "output_type": "stream",
          "name": "stdout",
          "text": [
            "{'tempo_gasto_site': 68.95, 'idade': 35, 'renda_area': 61833.9, 'tempo_gasto_internet': 256.09, 'cidade': 'Wrightburgh', 'pais': 'Tunisia', 'clicou_no_ad': 0}\n",
            "{'tempo_gasto_site': 80.23, 'idade': 31, 'renda_area': 68441.85, 'tempo_gasto_internet': 193.77, 'cidade': 'West Jodi', 'pais': 'Nauru', 'clicou_no_ad': 0}\n",
            "{'tempo_gasto_site': 69.47, 'idade': 26, 'renda_area': 59785.94, 'tempo_gasto_internet': 236.5, 'cidade': 'Davidton', 'pais': 'San Marino', 'clicou_no_ad': 0}\n",
            "{'tempo_gasto_site': 68.37, 'idade': 35, 'renda_area': 73889.99, 'tempo_gasto_internet': 225.58, 'cidade': 'South Manuel', 'pais': 'Iceland', 'clicou_no_ad': 0}\n",
            "{'tempo_gasto_site': 88.91, 'idade': 33, 'renda_area': 53852.85, 'tempo_gasto_internet': 208.36, 'cidade': 'Brandonstad', 'pais': 'Myanmar', 'clicou_no_ad': 0}\n",
            "{'tempo_gasto_site': None, 'idade': 48, 'renda_area': 24593.33, 'tempo_gasto_internet': 131.76, 'cidade': 'Port Jefferybury', 'pais': 'Australia', 'clicou_no_ad': 1}\n",
            "{'tempo_gasto_site': 74.53, 'idade': 30, 'renda_area': 68862.0, 'tempo_gasto_internet': 221.51, 'cidade': 'West Colin', 'pais': 'Grenada'}\n",
            "{'tempo_gasto_site': 69.88, 'idade': 20, 'renda_area': 55642.32, 'tempo_gasto_internet': 183.82, 'cidade': 'Ramirezton', 'pais': 'Ghana', 'clicou_no_ad': 0}\n"
          ]
        }
      ],
      "source": [
        "for dado_de_usuario in propaganda_online:\n",
        "  print(dado_de_usuario)"
      ]
    },
    {
      "cell_type": "markdown",
      "metadata": {
        "id": "AWmXz7_DNE5A"
      },
      "source": [
        "1.1. Imprima os seguintes valores da lista:\n",
        "`tempo_gasto_site` e `idade`.\n",
        "\n",
        "Dica: Utilize os conceitos de chave e valor de elementos de uma lista para selecionar os valores de uma chave (lista[chave]), conforme exemplo abaixo, na qual imprime somente os dados da chave `cidade`:"
      ]
    },
    {
      "cell_type": "code",
      "execution_count": 3,
      "metadata": {
        "colab": {
          "base_uri": "https://localhost:8080/"
        },
        "id": "jH4_wKCpNE5B",
        "outputId": "d23b6499-aff5-4f9e-c5d2-65f1e3454f38"
      },
      "outputs": [
        {
          "output_type": "stream",
          "name": "stdout",
          "text": [
            "Wrightburgh\n",
            "West Jodi\n",
            "Davidton\n",
            "South Manuel\n",
            "Brandonstad\n",
            "Port Jefferybury\n",
            "West Colin\n",
            "Ramirezton\n"
          ]
        }
      ],
      "source": [
        "for dado_de_usuario in propaganda_online:\n",
        "    print(dado_de_usuario['cidade'])"
      ]
    },
    {
      "cell_type": "markdown",
      "metadata": {
        "id": "IDHmiKX2NE5C"
      },
      "source": [
        "Extraindo os valores da chave `tempo_gasto_site`:"
      ]
    },
    {
      "cell_type": "code",
      "execution_count": 4,
      "metadata": {
        "colab": {
          "base_uri": "https://localhost:8080/"
        },
        "id": "NGgwWCj4NE5D",
        "outputId": "3b7e6773-a966-4118-c448-9597a0009d75"
      },
      "outputs": [
        {
          "output_type": "stream",
          "name": "stdout",
          "text": [
            "68.95\n",
            "80.23\n",
            "69.47\n",
            "68.37\n",
            "88.91\n",
            "None\n",
            "74.53\n",
            "69.88\n",
            "\n",
            "Lista com os valores extraídos: [68.95, 80.23, 69.47, 68.37, 88.91, 0.0, 74.53, 69.88].\n",
            "\n",
            "Soma do tempo total gasto no site em horas: 8 horas.\n",
            "Soma do tempo total gasto no site em minutos utilizando o método 'sum()' na lista: 520.3399999999999 minutos.\n",
            "\n",
            "Número de usuários: 8\n"
          ]
        }
      ],
      "source": [
        "# Unidade de medida de tempo considerada nos dados fornecidos para este exercício: MINUTOS.\n",
        "\n",
        "total_tempo_gasto_site = 0\n",
        "lista_tempo_gasto_site = []\n",
        "\n",
        "for dado_de_usuario in propaganda_online:\n",
        "  try:\n",
        "    total_tempo_gasto_site += dado_de_usuario['tempo_gasto_site']\n",
        "    lista_tempo_gasto_site.append(dado_de_usuario['tempo_gasto_site'])\n",
        "  except TypeError: # NoneType\n",
        "    if (type(dado_de_usuario['tempo_gasto_site']) != float) & (type(dado_de_usuario['tempo_gasto_site']) != int):\n",
        "      total_tempo_gasto_site += 0.0\n",
        "      lista_tempo_gasto_site.append(0.0)\n",
        "    else:\n",
        "      print(\"TypeError\")\n",
        "  finally:\n",
        "    print(dado_de_usuario['tempo_gasto_site'])\n",
        "\n",
        "print()\n",
        "print(f'Lista com os valores extraídos: {lista_tempo_gasto_site}.\\n')\n",
        "\n",
        "print(f'Soma do tempo total gasto no site em horas: {int(total_tempo_gasto_site // 60)} horas.')\n",
        "print(f\"Soma do tempo total gasto no site em minutos utilizando o método 'sum()' na lista: {sum(lista_tempo_gasto_site)} minutos.\\n\")\n",
        "\n",
        "print(f\"Número de usuários: {len(propaganda_online)}\")"
      ]
    },
    {
      "cell_type": "markdown",
      "metadata": {
        "id": "07hDsgb3NE5E"
      },
      "source": [
        "Extraindo os valores da chave `idade`:"
      ]
    },
    {
      "cell_type": "code",
      "execution_count": 5,
      "metadata": {
        "colab": {
          "base_uri": "https://localhost:8080/"
        },
        "id": "cYb_J-6JNE5E",
        "outputId": "25dd3cab-2e43-45ba-c707-80eef4c2a701"
      },
      "outputs": [
        {
          "output_type": "stream",
          "name": "stdout",
          "text": [
            "35 anos\n",
            "31 anos\n",
            "26 anos\n",
            "35 anos\n",
            "33 anos\n",
            "48 anos\n",
            "30 anos\n",
            "20 anos\n",
            "\n",
            "Número de usuários: 8.\n"
          ]
        }
      ],
      "source": [
        "for dado_de_usuario in propaganda_online:\n",
        "  print(f\"{dado_de_usuario['idade']} anos\")\n",
        "\n",
        "print()\n",
        "print(f\"Número de usuários: {len(propaganda_online)}.\")"
      ]
    },
    {
      "cell_type": "markdown",
      "metadata": {
        "id": "HbjCdFOHNE5F"
      },
      "source": [
        "## 2\\. Estrutura condicional if / else"
      ]
    },
    {
      "cell_type": "markdown",
      "metadata": {
        "id": "_JV0fxLwNE5F"
      },
      "source": [
        "2.1. Utilize a estrutura if/else para imprimir a cidade dos usuários que gastaram mais de 100 horas de tempo na internet\n",
        "\n",
        "Dica: Após a iteração dos elementos da lista (Através da estrutura condicional FOR),  utilize a estrutura if/else para criar a condição dos valores da chave `tempo_gasto_internet`"
      ]
    },
    {
      "cell_type": "code",
      "execution_count": 6,
      "metadata": {
        "colab": {
          "base_uri": "https://localhost:8080/"
        },
        "id": "Nny-f666NE5F",
        "outputId": "a105efd7-9f3c-4d75-a100-fff1a3fd8122"
      },
      "outputs": [
        {
          "output_type": "stream",
          "name": "stdout",
          "text": [
            "Cidade: Wrightburgh\n",
            "Tempo gasto na internet pelo usuário: 256.09 horas.\n",
            "\n",
            "Cidade: West Jodi\n",
            "Tempo gasto na internet pelo usuário: 193.77 horas.\n",
            "\n",
            "Cidade: Davidton\n",
            "Tempo gasto na internet pelo usuário: 236.5 horas.\n",
            "\n",
            "Cidade: South Manuel\n",
            "Tempo gasto na internet pelo usuário: 225.58 horas.\n",
            "\n",
            "Cidade: Brandonstad\n",
            "Tempo gasto na internet pelo usuário: 208.36 horas.\n",
            "\n",
            "Cidade: Port Jefferybury\n",
            "Tempo gasto na internet pelo usuário: 131.76 horas.\n",
            "\n",
            "Cidade: West Colin\n",
            "Tempo gasto na internet pelo usuário: 221.51 horas.\n",
            "\n",
            "Cidade: Ramirezton\n",
            "Tempo gasto na internet pelo usuário: 183.82 horas.\n",
            "\n",
            "Número de usuários que gastaram MENOS DE 100 horas de tempo na internet: 0.\n"
          ]
        }
      ],
      "source": [
        "# Unidade de medida de tempo considerada nos dados fornecidos para este exercício: HORAS.\n",
        "\n",
        "usuarios_menos_100horas_internet = 0\n",
        "\n",
        "for dado_de_usuario in propaganda_online:\n",
        "  if dado_de_usuario['tempo_gasto_internet'] > 100:\n",
        "    print(f\"Cidade: {dado_de_usuario['cidade']}\")\n",
        "    print(f\"Tempo gasto na internet pelo usuário: {dado_de_usuario['tempo_gasto_internet']} horas.\")\n",
        "    print()\n",
        "  else:\n",
        "    usuarios_menos_100horas_internet += 1\n",
        "\n",
        "print(f\"Número de usuários que gastaram MENOS DE 100 horas de tempo na internet: {usuarios_menos_100horas_internet}.\")"
      ]
    },
    {
      "cell_type": "markdown",
      "metadata": {
        "id": "gNVlr04qNE5H"
      },
      "source": [
        "## 3\\. Estrutura condicional try / except"
      ]
    },
    {
      "cell_type": "markdown",
      "metadata": {
        "id": "xsDW23HtNE5H"
      },
      "source": [
        "3.1. Utilize a estrutura try/except para imprimir as cidades dos usuários que passaram mais de 70 segundos no site. \n",
        "\n",
        "Dica: Realize o tratamento de exceções dentro da execução da iteração dos elementos da lista."
      ]
    },
    {
      "cell_type": "code",
      "execution_count": 7,
      "metadata": {
        "colab": {
          "base_uri": "https://localhost:8080/"
        },
        "id": "La5T6wYLNE5H",
        "outputId": "f8abdc55-d8fe-4dcb-96bf-4b9a7badafa4"
      },
      "outputs": [
        {
          "output_type": "stream",
          "name": "stdout",
          "text": [
            "Cidades dos usuários que passaram mais de 70 segundos no site:\n",
            "\n",
            "West Jodi: 80.23 segundos.\n",
            "Brandonstad: 88.91 segundos.\n",
            "West Colin: 74.53 segundos.\n"
          ]
        }
      ],
      "source": [
        "# Unidade de medida de tempo considerada nos dados fornecidos para este exercício: SEGUNDOS.\n",
        "\n",
        "print(\"Cidades dos usuários que passaram mais de 70 segundos no site:\\n\")\n",
        "\n",
        "for dado_de_usuario in propaganda_online:\n",
        "  try:\n",
        "    if (type(dado_de_usuario['tempo_gasto_site']) == float) & (dado_de_usuario['tempo_gasto_site'] > 70):\n",
        "      print(f\"{dado_de_usuario['cidade']}: {dado_de_usuario['tempo_gasto_site']} segundos.\")\n",
        "  except TypeError: # NoneType\n",
        "    continue"
      ]
    },
    {
      "cell_type": "markdown",
      "metadata": {
        "id": "ZwFsolgINE5I"
      },
      "source": [
        "# Exercício bônus"
      ]
    },
    {
      "cell_type": "markdown",
      "metadata": {
        "id": "muD1vxozykSC"
      },
      "source": [
        "## 1\\. Dados de interação de usuários com propagandas online"
      ]
    },
    {
      "cell_type": "markdown",
      "metadata": {
        "id": "KI9zQRT2xa7m"
      },
      "source": [
        "1.1. Crie uma lista chamada `paises` com o pais dos usuários com mais de 30 anos. \n",
        "\n",
        "Dica: Para armazenar os países dos usuários na lista `paises` utilize o método append()."
      ]
    },
    {
      "cell_type": "code",
      "execution_count": 8,
      "metadata": {
        "id": "fvYOUhoN-dxd",
        "colab": {
          "base_uri": "https://localhost:8080/"
        },
        "outputId": "bdf26531-bcd7-4416-9c52-d17f7e2a3cdf"
      },
      "outputs": [
        {
          "output_type": "stream",
          "name": "stdout",
          "text": [
            "Os países em que há usuários com MAIS DE 30 anos são:\n",
            "\n",
            "['Tunisia', 'Nauru', 'Iceland', 'Myanmar', 'Australia']\n",
            "['35 anos', '31 anos', '35 anos', '33 anos', '48 anos']\n"
          ]
        }
      ],
      "source": [
        "paises = []\n",
        "idades = []\n",
        "\n",
        "for dado_de_usuario in propaganda_online:\n",
        "  if dado_de_usuario['idade'] > 30:\n",
        "    paises.append(dado_de_usuario['pais'])\n",
        "    idades.append(str(dado_de_usuario['idade']) + \" anos\")\n",
        "\n",
        "print(f\"Os países em que há usuários com MAIS DE 30 anos são:\\n\")\n",
        "print(paises)\n",
        "print(idades)"
      ]
    },
    {
      "cell_type": "markdown",
      "metadata": {
        "id": "zMN1Q3jdwoJm"
      },
      "source": [
        "---"
      ]
    },
    {
      "cell_type": "markdown",
      "metadata": {
        "id": "LU_VIEdD_PrZ"
      },
      "source": [
        "1.2. Crie uma lista chamada `leads` com a renda dos usuários que clicaram na propaganda. \n",
        "\n",
        "Dica: Para armazenar a renda dos usuários na lista `leads` utilize o método append()."
      ]
    },
    {
      "cell_type": "code",
      "execution_count": 9,
      "metadata": {
        "id": "3mTbsme4_Pr0",
        "colab": {
          "base_uri": "https://localhost:8080/"
        },
        "outputId": "d04a8f65-d755-4e99-d653-25c7ed097fc4"
      },
      "outputs": [
        {
          "output_type": "stream",
          "name": "stdout",
          "text": [
            "Renda do(s) usuário(s) que clicou/clicaram na propaganda:\n",
            "\n",
            "[24593.33]\n"
          ]
        }
      ],
      "source": [
        "# Os valores da chave 'clicou_no_ad' foram considerados 0 para False e 1 para True.\n",
        "\n",
        "leads = []\n",
        "\n",
        "print(\"Renda do(s) usuário(s) que clicou/clicaram na propaganda:\\n\")\n",
        "\n",
        "for dado_de_usuario in propaganda_online:\n",
        "  try:\n",
        "    if dado_de_usuario['clicou_no_ad'] != 0:\n",
        "      leads.append(dado_de_usuario['renda_area'])\n",
        "  except KeyError: # Ausência da chave 'clicou_no_ad'\n",
        "    continue\n",
        "\n",
        "print(leads)"
      ]
    },
    {
      "cell_type": "markdown",
      "metadata": {
        "id": "4_L-WULHAesN"
      },
      "source": [
        "---"
      ]
    }
  ],
  "metadata": {
    "colab": {
      "provenance": [],
      "toc_visible": true
    },
    "kernelspec": {
      "display_name": "Python 3 (ipykernel)",
      "language": "python",
      "name": "python3"
    },
    "language_info": {
      "codemirror_mode": {
        "name": "ipython",
        "version": 3
      },
      "file_extension": ".py",
      "mimetype": "text/x-python",
      "name": "python",
      "nbconvert_exporter": "python",
      "pygments_lexer": "ipython3",
      "version": "3.9.7"
    }
  },
  "nbformat": 4,
  "nbformat_minor": 0
}