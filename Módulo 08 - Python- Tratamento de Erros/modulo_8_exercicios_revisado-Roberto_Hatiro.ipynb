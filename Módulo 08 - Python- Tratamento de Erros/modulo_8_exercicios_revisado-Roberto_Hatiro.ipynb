{
  "nbformat": 4,
  "nbformat_minor": 0,
  "metadata": {
    "colab": {
      "provenance": []
    },
    "kernelspec": {
      "name": "python3",
      "display_name": "Python 3"
    }
  },
  "cells": [
    {
      "cell_type": "markdown",
      "metadata": {
        "id": "KJqp9AANOCtf"
      },
      "source": [
        "<img src=\"https://raw.githubusercontent.com/andre-marcos-perez/ebac-course-utils/main/media/logo/newebac_logo_black_half.png\" alt=\"ebac-logo\">\n",
        "\n",
        "---\n",
        "\n",
        "# **Módulo 08** | Python: Tratamento de Erros\n",
        "Caderno de **Exercícios**<br> \n",
        "Professor [André Perez](https://www.linkedin.com/in/andremarcosperez/)\n",
        "\n",
        "Aluno [Roberto Hatiro](https://www.linkedin.com/in/rhatiro/)<br>\n",
        "Data: 18 de janeiro de 2023.\n",
        "\n",
        "---"
      ]
    },
    {
      "cell_type": "markdown",
      "metadata": {
        "id": "d9jDtUbDOE1-"
      },
      "source": [
        "# **Tópicos**\n",
        "\n",
        "<ol type=\"1\">\n",
        "  <li>Tipos de erros;</li>\n",
        "  <li>Erros de sintaxe;</li>\n",
        "  <li>Erros em tempo de execução.</li>\n",
        "</ol>"
      ]
    },
    {
      "cell_type": "markdown",
      "metadata": {
        "id": "SmoHgt-lwkpD"
      },
      "source": [
        "---"
      ]
    },
    {
      "cell_type": "markdown",
      "metadata": {
        "id": "GABI6OW8OfQ2"
      },
      "source": [
        "# **Exercícios**"
      ]
    },
    {
      "cell_type": "markdown",
      "metadata": {
        "id": "muD1vxozykSC"
      },
      "source": [
        "## 1\\. Erros de sintaxe"
      ]
    },
    {
      "cell_type": "markdown",
      "metadata": {
        "id": "ahrFfCuBxJKs"
      },
      "source": [
        "Identifique o erro de sintaxe nos trechos de código abaixo e corrija-os para que o trecho de código funcione."
      ]
    },
    {
      "cell_type": "markdown",
      "metadata": {
        "id": "sCluir52-zGM"
      },
      "source": [
        " - Laços de repetição."
      ]
    },
    {
      "cell_type": "code",
      "metadata": {
        "id": "eebFnvGd-zSC",
        "colab": {
          "base_uri": "https://localhost:8080/"
        },
        "outputId": "312cba86-5be5-48f9-f7ec-02781f98ebac"
      },
      "source": [
        "credito = {'123': 750, '456': 812, '789': 980}\n",
        "\n",
        "for chave, valor in credito.items():\n",
        "  print(f'Para o documento {chave}, o valor do escore de crédito é {valor}.')"
      ],
      "execution_count": 1,
      "outputs": [
        {
          "output_type": "stream",
          "name": "stdout",
          "text": [
            "Para o documento 123, o valor do escore de crédito é 750.\n",
            "Para o documento 456, o valor do escore de crédito é 812.\n",
            "Para o documento 789, o valor do escore de crédito é 980.\n"
          ]
        }
      ]
    },
    {
      "cell_type": "markdown",
      "metadata": {
        "id": "NKDaQYt889VZ"
      },
      "source": [
        " - Funções"
      ]
    },
    {
      "cell_type": "code",
      "metadata": {
        "id": "GZHnCmRH89hg",
        "colab": {
          "base_uri": "https://localhost:8080/"
        },
        "outputId": "4180ff64-6a33-4add-d6b1-437f9a8deeb4"
      },
      "source": [
        "def pi() -> float:\n",
        "  return 3.14159265359\n",
        "\n",
        "pi = pi()\n",
        "print(pi)"
      ],
      "execution_count": 2,
      "outputs": [
        {
          "output_type": "stream",
          "name": "stdout",
          "text": [
            "3.14159265359\n"
          ]
        }
      ]
    },
    {
      "cell_type": "markdown",
      "metadata": {
        "id": "i6EIHmQZ8KMy"
      },
      "source": [
        "- Programação Funcional"
      ]
    },
    {
      "cell_type": "code",
      "metadata": {
        "id": "_1a3EEYU8JsU",
        "colab": {
          "base_uri": "https://localhost:8080/"
        },
        "outputId": "154bd4c6-1d96-41e8-b5af-6afa8fea5ae0"
      },
      "source": [
        "emails = ['andre.perez@gmail.com', 'andre.perez@live.com', 'andre.perez@yahoo.com']\n",
        "provedor_da_google = lambda email: 'gmail' in email\n",
        "\n",
        "emails_google = filter(provedor_da_google, emails)\n",
        "print(list(emails_google))"
      ],
      "execution_count": 3,
      "outputs": [
        {
          "output_type": "stream",
          "name": "stdout",
          "text": [
            "['andre.perez@gmail.com']\n"
          ]
        }
      ]
    },
    {
      "cell_type": "markdown",
      "metadata": {
        "id": "KI9zQRT2xa7m"
      },
      "source": [
        "- Programação orientação a objetos"
      ]
    },
    {
      "cell_type": "code",
      "metadata": {
        "id": "XD-C996C7gvN"
      },
      "source": [
        "class Pessoa(object):\n",
        "\n",
        "  def __init__(self, nome: str, idade: int, documento: str):\n",
        "    self.nome = nome\n",
        "    self.idade = idade\n",
        "    self.documento = documento\n",
        "\n",
        "andre = Pessoa(nome=\"Andre\", idade=30, documento=\"123\")"
      ],
      "execution_count": 4,
      "outputs": []
    },
    {
      "cell_type": "markdown",
      "metadata": {
        "id": "zMN1Q3jdwoJm"
      },
      "source": [
        "---"
      ]
    },
    {
      "cell_type": "markdown",
      "metadata": {
        "id": "qh4asQbf6dBX"
      },
      "source": [
        "## 2\\. Erros em tempo de execução"
      ]
    },
    {
      "cell_type": "markdown",
      "metadata": {
        "id": "71iuLvVJ6dB-"
      },
      "source": [
        "Neste exercício vamos trabalhar com o arquivo csv com dados de crédito, definido abaixo. Execute cada uma das células de código para escrever os arquivos na sua máquina virtual."
      ]
    },
    {
      "cell_type": "code",
      "metadata": {
        "id": "FCBXZUQd3frz",
        "colab": {
          "base_uri": "https://localhost:8080/"
        },
        "outputId": "592771e9-c367-4629-b7e8-fcd81cbd25bc"
      },
      "source": [
        "%%writefile credito.csv\n",
        "id_vendedor,valor_emprestimos,quantidade_emprestimos,data\n",
        "104271,448.0,1,20161208\n",
        "21476,826.7,3,20161208\n",
        "87440,313.6,3,20161208\n",
        "15980,808.0,6,20161208\n",
        "215906,2212.0,5,20161208\n",
        "33696,2771.3,2,20161208\n",
        "33893,2240.0,3,20161208\n",
        "214946,\"4151.0\",18,20161208\n",
        "123974,2021.95,2,20161208\n",
        "225870,4039.0,2,20161208"
      ],
      "execution_count": 5,
      "outputs": [
        {
          "output_type": "stream",
          "name": "stdout",
          "text": [
            "Writing credito.csv\n"
          ]
        }
      ]
    },
    {
      "cell_type": "markdown",
      "metadata": {
        "id": "FIe14G9H3779"
      },
      "source": [
        "O código abaixo deve calcular o total emprestado por cada vendedor mas está \"estourando\" a exceção `ValueError` devido a um erro no conjunto de dados. Utilize a estrutura `try-catch` para garantir que o código seja executado com sucesso. \n",
        "\n",
        "**Atenção:** Você não deve alterar o arquivo de dados."
      ]
    },
    {
      "cell_type": "markdown",
      "source": [
        "Dicas: \n",
        "\n",
        " \n",
        "\n",
        "1.  Identique o bloco que código que pode gerar a exceção e utilize `try` e `except` de modo que a operação que pode causar o problema seja colocada dentro do bloco `try`, e o código que trata a exceção seja escrito dentro do bloco `except`.\n",
        "2.   Tratar a exceção no `except`: utilize o método `replace()` para remover as aspas do conjunto de dados 'linha_elementos[1]'."
      ],
      "metadata": {
        "id": "ppxj6ZqvcsCp"
      }
    },
    {
      "cell_type": "markdown",
      "source": [
        "Resumo sobre o método `replace()`:\n",
        "\n",
        "O método `replace()` é usado para substituir determinado conteúdo de uma string. Esse método recebe 2 argumentos obrigatórios: o 1º corresponde ao valor original que será substituído e o 2º corresponde ao novo valor inserido.\n",
        "\n",
        "Na prática, o interpretador Python vai percorrer a string e, assim que encontrar o valor correspondente ao 1º argumento vai substituir o conteúdo do 1º argumento pelo conteúdo do 2º argumento. "
      ],
      "metadata": {
        "id": "Vr-iv94GVung"
      }
    },
    {
      "cell_type": "markdown",
      "source": [
        "\n",
        "Sintaxe:\n",
        "```\n",
        "replace('valor que será substituído', 'novo valor inserido')\n",
        "```\n",
        "\n"
      ],
      "metadata": {
        "id": "OBTRJ_73F12c"
      }
    },
    {
      "cell_type": "markdown",
      "source": [
        "Exemplo - aplicação método replace():"
      ],
      "metadata": {
        "id": "bG0nUyU4izx9"
      }
    },
    {
      "cell_type": "code",
      "source": [
        "frase2 = 'Módulos finalizados: 1, 2, 3, *4*, *5*, *6* e 7'\n",
        "\n",
        "# Usar o replace() para trocar o caractere asterisco pelo caractere aspas na string \"frase2\"\n",
        "print(frase2.replace('*','\"'))"
      ],
      "metadata": {
        "colab": {
          "base_uri": "https://localhost:8080/"
        },
        "outputId": "c83aa49a-893d-4a76-b33b-19b05d253110",
        "id": "N35DQs_akT2j"
      },
      "execution_count": 6,
      "outputs": [
        {
          "output_type": "stream",
          "name": "stdout",
          "text": [
            "Módulos finalizados: 1, 2, 3, \"4\", \"5\", \"6\" e 7\n"
          ]
        }
      ]
    },
    {
      "cell_type": "markdown",
      "source": [
        "Obs: Através do replace() para remover um caractere, o método vai substituir cada caractere por vazio."
      ],
      "metadata": {
        "id": "Qu_3NPRmbm6Y"
      }
    },
    {
      "cell_type": "code",
      "metadata": {
        "id": "cOkNYOdd5GMK",
        "colab": {
          "base_uri": "https://localhost:8080/"
        },
        "outputId": "b53a9eb2-a361-4f0f-f838-f05e87f8a836"
      },
      "source": [
        "def valor_total_emprestimo(valor: float, quantidade: int) -> float:\n",
        "  return valor * quantidade\n",
        "\n",
        "emprestimos = []\n",
        "\n",
        "with open(file='./credito.csv', mode='r', encoding='utf8') as fp:\n",
        "  fp.readline() # cabeçalho\n",
        "  linha = fp.readline()\n",
        "  while linha:\n",
        "    try:\n",
        "      # print(linha)\n",
        "      linha_emprestimo = {}\n",
        "      linha_elementos = linha.strip().split(sep=',')\n",
        "      # print(linha_elementos)\n",
        "      linha_emprestimo['id_vendedor'] = linha_elementos[0]\n",
        "      linha_emprestimo['valor_emprestimos'] = float(linha_elementos[1])\n",
        "      linha_emprestimo['quantidade_emprestimos'] = int(linha_elementos[2])\n",
        "      linha_emprestimo['data'] = linha_elementos[3]\n",
        "      emprestimos.append(linha_emprestimo)\n",
        "      linha = fp.readline()\n",
        "    except ValueError:\n",
        "      linha = linha.replace('\"', '')\n",
        "\n",
        "emprestimos_total = []\n",
        "for emprestimo in emprestimos:\n",
        "  valor_total = valor_total_emprestimo(valor=emprestimo['valor_emprestimos'], quantidade=emprestimo['quantidade_emprestimos'])\n",
        "  emprestimos_total.append({emprestimo['id_vendedor']: valor_total})\n",
        "\n",
        "for emprestimo_total in emprestimos_total:\n",
        "  print(emprestimo_total)"
      ],
      "execution_count": 7,
      "outputs": [
        {
          "output_type": "stream",
          "name": "stdout",
          "text": [
            "{'104271': 448.0}\n",
            "{'21476': 2480.1000000000004}\n",
            "{'87440': 940.8000000000001}\n",
            "{'15980': 4848.0}\n",
            "{'215906': 11060.0}\n",
            "{'33696': 5542.6}\n",
            "{'33893': 6720.0}\n",
            "{'214946': 74718.0}\n",
            "{'123974': 4043.9}\n",
            "{'225870': 8078.0}\n"
          ]
        }
      ]
    },
    {
      "cell_type": "markdown",
      "metadata": {
        "id": "0dKgZEQB8ZwP"
      },
      "source": [
        "O resultado final deve ser a impressão da seguinte lista:\n",
        "\n",
        "```\n",
        "{'104271': 448.0}\n",
        "{'21476': 2480.1000000000004}\n",
        "{'87440': 940.8000000000001}\n",
        "{'15980': 4848.0}\n",
        "{'215906': 11060.0}\n",
        "{'33696': 5542.6}\n",
        "{'33893': 6720.0}\n",
        "{'214946': 74718.0}\n",
        "{'123974': 4043.9}\n",
        "{'225870': 8078.0}\n",
        "```"
      ]
    },
    {
      "cell_type": "markdown",
      "metadata": {
        "id": "zkqY6ImS6dCB"
      },
      "source": [
        "---"
      ]
    }
  ]
}