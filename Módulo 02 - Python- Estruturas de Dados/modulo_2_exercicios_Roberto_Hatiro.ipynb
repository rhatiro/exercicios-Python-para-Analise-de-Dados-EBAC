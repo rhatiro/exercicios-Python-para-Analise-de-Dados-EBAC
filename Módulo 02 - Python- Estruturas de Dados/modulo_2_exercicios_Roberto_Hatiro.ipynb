{
  "nbformat": 4,
  "nbformat_minor": 0,
  "metadata": {
    "colab": {
      "provenance": []
    },
    "kernelspec": {
      "name": "python3",
      "display_name": "Python 3"
    }
  },
  "cells": [
    {
      "cell_type": "markdown",
      "metadata": {
        "id": "KJqp9AANOCtf"
      },
      "source": [
        "<img src=\"https://raw.githubusercontent.com/andre-marcos-perez/ebac-course-utils/main/media/logo/newebac_logo_black_half.png\" alt=\"ebac-logo\">\n",
        "\n",
        "---\n",
        "\n",
        "# **Módulo 02** | Python: Estruturas de Dados\n",
        "Caderno de **Exercícios**<br> \n",
        "Professor [André Perez](https://www.linkedin.com/in/andremarcosperez/)\n",
        "\n",
        "Aluno [Roberto Hatiro](https://www.linkedin.com/in/rhatiro/)<br>\n",
        "Data: 05 de janeiro de 2023.\n",
        "\n",
        "---"
      ]
    },
    {
      "cell_type": "markdown",
      "metadata": {
        "id": "d9jDtUbDOE1-"
      },
      "source": [
        "# **Tópicos**\n",
        "\n",
        "<ol type=\"1\">\n",
        "  <li>Listas;</li>\n",
        "  <li>Conjuntos;</li>\n",
        "  <li>Dicionários.</li>\n",
        "</ol>"
      ]
    },
    {
      "cell_type": "markdown",
      "metadata": {
        "id": "SmoHgt-lwkpD"
      },
      "source": [
        "---"
      ]
    },
    {
      "cell_type": "markdown",
      "metadata": {
        "id": "GABI6OW8OfQ2"
      },
      "source": [
        "# **Exercícios**"
      ]
    },
    {
      "cell_type": "markdown",
      "metadata": {
        "id": "muD1vxozykSC"
      },
      "source": [
        "## 1\\. Listas"
      ]
    },
    {
      "cell_type": "markdown",
      "metadata": {
        "id": "ahrFfCuBxJKs"
      },
      "source": [
        "Crie uma lista chamada `filmes` com o nome dos 10 primeiros filmes mais bem avaliados no site do [IMDB](https://www.imdb.com/chart/top/). Imprima o resultado."
      ]
    },
    {
      "cell_type": "code",
      "metadata": {
        "id": "OgL6Hv3bzOHI",
        "colab": {
          "base_uri": "https://localhost:8080/"
        },
        "outputId": "4a9a25e9-ddf2-4d14-a9d6-797386e945b9"
      },
      "source": [
        "# Lista com os nomes dos 10 primeiros filmes mais bem avaliados de acordo com o site IMDB na data de 05 de janeiro de 2023:\n",
        "\n",
        "filmes = [\n",
        "    \"The Shawshank Redemption (1994)\", # 1.\n",
        "    \"The Godfather (1972)\", # 2.\n",
        "    \"The Dark Knight (2008)\", # 3.\n",
        "    \"The Godfather Part II (1974)\", # 4.\n",
        "    \"12 Angry Men (1957)\", # 5.\n",
        "    \"Schindler's List (1993)\", # 6.\n",
        "    \"The Lord of the Rings: The Return of the King (2003)\", # 7.\n",
        "    \"Pulp Fiction (1994)\", # 8.\n",
        "    \"The Lord of the Rings: The Fellowship of the Ring (2001)\", # 9.\n",
        "    \"The Good, the Bad and the Ugly (1966)\" # 10.\n",
        "    ]\n",
        "\n",
        "print(filmes)\n",
        "print()\n",
        "\n",
        "print(f'Quantidade de filmes: {len(filmes)}')"
      ],
      "execution_count": 1,
      "outputs": [
        {
          "output_type": "stream",
          "name": "stdout",
          "text": [
            "['The Shawshank Redemption (1994)', 'The Godfather (1972)', 'The Dark Knight (2008)', 'The Godfather Part II (1974)', '12 Angry Men (1957)', \"Schindler's List (1993)\", 'The Lord of the Rings: The Return of the King (2003)', 'Pulp Fiction (1994)', 'The Lord of the Rings: The Fellowship of the Ring (2001)', 'The Good, the Bad and the Ugly (1966)']\n",
            "\n",
            "Quantidade de filmes: 10\n"
          ]
        }
      ]
    },
    {
      "cell_type": "markdown",
      "metadata": {
        "id": "KI9zQRT2xa7m"
      },
      "source": [
        "Simule a movimentação do *ranking*. Utilize os métodos `insert` e `pop` para trocar a posição do primeiro e do segundo filme da lista. Imprima o resultado.\n",
        "\n"
      ]
    },
    {
      "cell_type": "code",
      "metadata": {
        "id": "zX3mA3_GzrXH",
        "colab": {
          "base_uri": "https://localhost:8080/"
        },
        "outputId": "634ceccb-db98-4edb-993a-4c398bda98e3"
      },
      "source": [
        "# Troca de posição entre o primeiro e o segundo filme da lista:\n",
        "\n",
        "filmes.insert(0, filmes.pop(1))\n",
        "\n",
        "print(filmes)\n",
        "print()\n",
        "\n",
        "print(f'Quantidade de filmes: {len(filmes)}')"
      ],
      "execution_count": 2,
      "outputs": [
        {
          "output_type": "stream",
          "name": "stdout",
          "text": [
            "['The Godfather (1972)', 'The Shawshank Redemption (1994)', 'The Dark Knight (2008)', 'The Godfather Part II (1974)', '12 Angry Men (1957)', \"Schindler's List (1993)\", 'The Lord of the Rings: The Return of the King (2003)', 'Pulp Fiction (1994)', 'The Lord of the Rings: The Fellowship of the Ring (2001)', 'The Good, the Bad and the Ugly (1966)']\n",
            "\n",
            "Quantidade de filmes: 10\n"
          ]
        }
      ]
    },
    {
      "cell_type": "markdown",
      "metadata": {
        "id": "zMN1Q3jdwoJm"
      },
      "source": [
        "---"
      ]
    },
    {
      "cell_type": "markdown",
      "metadata": {
        "id": "lxa5L6uF0ZJE"
      },
      "source": [
        "## 2\\. Conjuntos"
      ]
    },
    {
      "cell_type": "markdown",
      "metadata": {
        "id": "9JahS2Kj0d5u"
      },
      "source": [
        "Aconteceu um erro no seu *ranking*. Simule a duplicação dos três últimos filmes da lista. Imprima o resultado."
      ]
    },
    {
      "cell_type": "code",
      "metadata": {
        "id": "BnjnLBNC6PGe",
        "colab": {
          "base_uri": "https://localhost:8080/"
        },
        "outputId": "15bceeaa-3464-4e11-ecfd-6c6e4507a9f6"
      },
      "source": [
        "# Adicionando novamente os três últimos filmes da lista:\n",
        "\n",
        "filmes.append(\"Pulp Fiction (1994)\") # 8.\n",
        "filmes.append(\"The Lord of the Rings: The Fellowship of the Ring (2001)\") # 9.\n",
        "filmes.append(\"The Good, the Bad and the Ugly (1966)\") # 10.\n",
        "\n",
        "print(filmes)\n",
        "print()\n",
        "\n",
        "print(f'Quantidade de filmes: {len(filmes)}')"
      ],
      "execution_count": 3,
      "outputs": [
        {
          "output_type": "stream",
          "name": "stdout",
          "text": [
            "['The Godfather (1972)', 'The Shawshank Redemption (1994)', 'The Dark Knight (2008)', 'The Godfather Part II (1974)', '12 Angry Men (1957)', \"Schindler's List (1993)\", 'The Lord of the Rings: The Return of the King (2003)', 'Pulp Fiction (1994)', 'The Lord of the Rings: The Fellowship of the Ring (2001)', 'The Good, the Bad and the Ugly (1966)', 'Pulp Fiction (1994)', 'The Lord of the Rings: The Fellowship of the Ring (2001)', 'The Good, the Bad and the Ugly (1966)']\n",
            "\n",
            "Quantidade de filmes: 13\n"
          ]
        }
      ]
    },
    {
      "cell_type": "markdown",
      "metadata": {
        "id": "suxTfCJB6ZiX"
      },
      "source": [
        "Utiliza a conversão `set` e `list` para remover os valores duplicados. Imprima o resultado. "
      ]
    },
    {
      "cell_type": "code",
      "metadata": {
        "id": "ZvUGN-0n6joM",
        "colab": {
          "base_uri": "https://localhost:8080/"
        },
        "outputId": "b70b523c-e998-4aec-c6c1-4c88000efde2"
      },
      "source": [
        "# Removendo os valores duplicados da lista:\n",
        "\n",
        "filmes = list(set(filmes))\n",
        "\n",
        "print(filmes)\n",
        "print()\n",
        "\n",
        "print(f'Quantidade de filmes: {len(filmes)}')\n",
        "print(type(filmes))"
      ],
      "execution_count": 4,
      "outputs": [
        {
          "output_type": "stream",
          "name": "stdout",
          "text": [
            "['The Good, the Bad and the Ugly (1966)', '12 Angry Men (1957)', 'The Lord of the Rings: The Fellowship of the Ring (2001)', 'The Dark Knight (2008)', 'Pulp Fiction (1994)', 'The Godfather Part II (1974)', 'The Godfather (1972)', 'The Lord of the Rings: The Return of the King (2003)', \"Schindler's List (1993)\", 'The Shawshank Redemption (1994)']\n",
            "\n",
            "Quantidade de filmes: 10\n",
            "<class 'list'>\n"
          ]
        }
      ]
    },
    {
      "cell_type": "markdown",
      "metadata": {
        "id": "ShkK35eQ6pAM"
      },
      "source": [
        "---"
      ]
    },
    {
      "cell_type": "markdown",
      "metadata": {
        "id": "EL_FzmxL6rTv"
      },
      "source": [
        "## 3\\. Dicionários"
      ]
    },
    {
      "cell_type": "markdown",
      "metadata": {
        "id": "i8l0gFqRCpfT"
      },
      "source": [
        "Repita os exercícios da parte 1 (listas). Os elementos da lista `filmes` devem ser dicionários no seguinte formato: `{'nome': <nome-do-filme>, 'ano': <ano do filme>}, 'sinopse': <sinopse do filme>}`. "
      ]
    },
    {
      "cell_type": "code",
      "source": [
        "dicionario_filmes = {\n",
        "    '1.': {\n",
        "        'nome': \"Um Sonho de Liberdade\",\n",
        "        'ano': 1994,\n",
        "        'sinopse': \"Dois homens presos se reúnem ao longo de vários anos, encontrando consolo e eventual redenção através de atos de decência comum.\"\n",
        "    },\n",
        "    '2.': {\n",
        "        'nome': \"O Poderoso Chefão\",\n",
        "        'ano': 1972,\n",
        "        'sinopse': \"O patriarca idoso de uma dinastia do crime organizado transfere o controle de seu império clandestino para seu filho relutante.\"\n",
        "    },\n",
        "    '3.': {\n",
        "        'nome': \"Batman: O Cavaleiro das Trevas\",\n",
        "        'ano': 2008,\n",
        "        'sinopse': \"Quando a ameaça conhecida como O Coringa surge de seu passado, causa estragos e caos nas pessoas de Gotham. O Cavaleiro das Trevas deve aceitar um dos maiores testes para combater a injustiça.\"\n",
        "    },\n",
        "    '4.': {\n",
        "        'nome': \"O Poderoso Chefão II\",\n",
        "        'ano': 1974,\n",
        "        'sinopse': \"Em 1950, Michael Corleone, agora à frente da família, tenta expandir o negócio do crime a Las Vegas, Los Angeles e Cuba. Paralelamente, é revelada a história de Vito Corleone, e de como saiu da Sicília e chegou a Nova Iorque.\"        \n",
        "    },\n",
        "    '5.': {\n",
        "        'nome': \"12 Homens e uma Sentença\",\n",
        "        'ano': 1957,\n",
        "        'sinopse': \"Um jurado que se aposenta tenta evitar um erro judicial forçando seus colegas a reconsiderarem as evidências.\"\n",
        "    },\n",
        "    '6.': {\n",
        "        'nome': \"A Lista de Schindler\",\n",
        "        'ano': 1993,\n",
        "        'sinopse': \"Depois de testemunhar a perseguição dos judaicos na Polônia ocupada pelos alemães durante a Segunda Guerra Mundial, o industrial Oskar Schindler se começa a preocupar com sua força de trabalho judaica.\"\n",
        "    },\n",
        "    '7.': {\n",
        "        'nome': \"O Senhor dos Anéis: O Retorno do Rei\",\n",
        "        'ano': 2003,\n",
        "        'sinopse': \"Gandalf e Aragorn lideram o Mundo dos Homens contra o exército de Sauron para desviar o olhar de Frodo e Sam quando eles se aproximam á Montanha da Perdição com o Um Anel.\"\n",
        "    },\n",
        "    '8.': {\n",
        "        'nome': \"Pulp Fiction: Tempo de Violência\",\n",
        "        'ano': 1994,\n",
        "        'sinopse': \"As vidas de dois assassinos da máfia, um boxeador, um gângster e sua esposa, e um par de bandidos se entrelaçam em quatro histórias de violência e redenção.\"\n",
        "    },\n",
        "    '9.': {\n",
        "        'nome': \"O Senhor dos Anéis: A Sociedade do Anel\",\n",
        "        'ano': 2001,\n",
        "        'sinopse': \"Um manso hobbit do Condado e oito companheiros partem em uma jornada para destruir o poderoso Um Anel e salvar a Terra-média das Trevas.\"        \n",
        "    },\n",
        "    '10.': {\n",
        "        'nome': \"Três Homens em Conflito\",\n",
        "        'ano': 1966,\n",
        "        'sinopse': \"Um impostor se junta com dois homens para encontrar fortuna num remoto cemitério.\"\n",
        "    }\n",
        "}\n",
        "\n",
        "print(dicionario_filmes)\n",
        "print()\n",
        "\n",
        "print(f'Quantidade de filmes: {len(dicionario_filmes)}')"
      ],
      "metadata": {
        "colab": {
          "base_uri": "https://localhost:8080/"
        },
        "id": "bNpMQu1EXZZg",
        "outputId": "f4a0e34f-cdd8-4a14-fc30-297d7dd431dc"
      },
      "execution_count": 5,
      "outputs": [
        {
          "output_type": "stream",
          "name": "stdout",
          "text": [
            "{'1.': {'nome': 'Um Sonho de Liberdade', 'ano': 1994, 'sinopse': 'Dois homens presos se reúnem ao longo de vários anos, encontrando consolo e eventual redenção através de atos de decência comum.'}, '2.': {'nome': 'O Poderoso Chefão', 'ano': 1972, 'sinopse': 'O patriarca idoso de uma dinastia do crime organizado transfere o controle de seu império clandestino para seu filho relutante.'}, '3.': {'nome': 'Batman: O Cavaleiro das Trevas', 'ano': 2008, 'sinopse': 'Quando a ameaça conhecida como O Coringa surge de seu passado, causa estragos e caos nas pessoas de Gotham. O Cavaleiro das Trevas deve aceitar um dos maiores testes para combater a injustiça.'}, '4.': {'nome': 'O Poderoso Chefão II', 'ano': 1974, 'sinopse': 'Em 1950, Michael Corleone, agora à frente da família, tenta expandir o negócio do crime a Las Vegas, Los Angeles e Cuba. Paralelamente, é revelada a história de Vito Corleone, e de como saiu da Sicília e chegou a Nova Iorque.'}, '5.': {'nome': '12 Homens e uma Sentença', 'ano': 1957, 'sinopse': 'Um jurado que se aposenta tenta evitar um erro judicial forçando seus colegas a reconsiderarem as evidências.'}, '6.': {'nome': 'A Lista de Schindler', 'ano': 1993, 'sinopse': 'Depois de testemunhar a perseguição dos judaicos na Polônia ocupada pelos alemães durante a Segunda Guerra Mundial, o industrial Oskar Schindler se começa a preocupar com sua força de trabalho judaica.'}, '7.': {'nome': 'O Senhor dos Anéis: O Retorno do Rei', 'ano': 2003, 'sinopse': 'Gandalf e Aragorn lideram o Mundo dos Homens contra o exército de Sauron para desviar o olhar de Frodo e Sam quando eles se aproximam á Montanha da Perdição com o Um Anel.'}, '8.': {'nome': 'Pulp Fiction: Tempo de Violência', 'ano': 1994, 'sinopse': 'As vidas de dois assassinos da máfia, um boxeador, um gângster e sua esposa, e um par de bandidos se entrelaçam em quatro histórias de violência e redenção.'}, '9.': {'nome': 'O Senhor dos Anéis: A Sociedade do Anel', 'ano': 2001, 'sinopse': 'Um manso hobbit do Condado e oito companheiros partem em uma jornada para destruir o poderoso Um Anel e salvar a Terra-média das Trevas.'}, '10.': {'nome': 'Três Homens em Conflito', 'ano': 1966, 'sinopse': 'Um impostor se junta com dois homens para encontrar fortuna num remoto cemitério.'}}\n",
            "\n",
            "Quantidade de filmes: 10\n"
          ]
        }
      ]
    },
    {
      "cell_type": "code",
      "source": [
        "# Troca de posição entre o primeiro e o segundo filme do dicionário:\n",
        "\n",
        "primeiro_lugar = dicionario_filmes.pop('1.')\n",
        "segundo_lugar = dicionario_filmes.pop('2.')\n",
        "\n",
        "dicionario_filmes['1.'] = segundo_lugar\n",
        "dicionario_filmes['2.'] = primeiro_lugar\n",
        "\n",
        "print(\"Primeira posição:\")\n",
        "print(dicionario_filmes['1.'])\n",
        "print(\"Segunda posição:\")\n",
        "print(dicionario_filmes['2.'])\n",
        "print()\n",
        "\n",
        "print(\"Dicionário completo:\")\n",
        "print(dicionario_filmes)\n",
        "print(f'Quantidade de filmes: {len(dicionario_filmes)}')"
      ],
      "metadata": {
        "colab": {
          "base_uri": "https://localhost:8080/"
        },
        "id": "d-FTM1bpn3sc",
        "outputId": "af9a80b1-4bed-4e1e-d42c-fe5572dfbd49"
      },
      "execution_count": 6,
      "outputs": [
        {
          "output_type": "stream",
          "name": "stdout",
          "text": [
            "Primeira posição:\n",
            "{'nome': 'O Poderoso Chefão', 'ano': 1972, 'sinopse': 'O patriarca idoso de uma dinastia do crime organizado transfere o controle de seu império clandestino para seu filho relutante.'}\n",
            "Segunda posição:\n",
            "{'nome': 'Um Sonho de Liberdade', 'ano': 1994, 'sinopse': 'Dois homens presos se reúnem ao longo de vários anos, encontrando consolo e eventual redenção através de atos de decência comum.'}\n",
            "\n",
            "Dicionário completo:\n",
            "{'3.': {'nome': 'Batman: O Cavaleiro das Trevas', 'ano': 2008, 'sinopse': 'Quando a ameaça conhecida como O Coringa surge de seu passado, causa estragos e caos nas pessoas de Gotham. O Cavaleiro das Trevas deve aceitar um dos maiores testes para combater a injustiça.'}, '4.': {'nome': 'O Poderoso Chefão II', 'ano': 1974, 'sinopse': 'Em 1950, Michael Corleone, agora à frente da família, tenta expandir o negócio do crime a Las Vegas, Los Angeles e Cuba. Paralelamente, é revelada a história de Vito Corleone, e de como saiu da Sicília e chegou a Nova Iorque.'}, '5.': {'nome': '12 Homens e uma Sentença', 'ano': 1957, 'sinopse': 'Um jurado que se aposenta tenta evitar um erro judicial forçando seus colegas a reconsiderarem as evidências.'}, '6.': {'nome': 'A Lista de Schindler', 'ano': 1993, 'sinopse': 'Depois de testemunhar a perseguição dos judaicos na Polônia ocupada pelos alemães durante a Segunda Guerra Mundial, o industrial Oskar Schindler se começa a preocupar com sua força de trabalho judaica.'}, '7.': {'nome': 'O Senhor dos Anéis: O Retorno do Rei', 'ano': 2003, 'sinopse': 'Gandalf e Aragorn lideram o Mundo dos Homens contra o exército de Sauron para desviar o olhar de Frodo e Sam quando eles se aproximam á Montanha da Perdição com o Um Anel.'}, '8.': {'nome': 'Pulp Fiction: Tempo de Violência', 'ano': 1994, 'sinopse': 'As vidas de dois assassinos da máfia, um boxeador, um gângster e sua esposa, e um par de bandidos se entrelaçam em quatro histórias de violência e redenção.'}, '9.': {'nome': 'O Senhor dos Anéis: A Sociedade do Anel', 'ano': 2001, 'sinopse': 'Um manso hobbit do Condado e oito companheiros partem em uma jornada para destruir o poderoso Um Anel e salvar a Terra-média das Trevas.'}, '10.': {'nome': 'Três Homens em Conflito', 'ano': 1966, 'sinopse': 'Um impostor se junta com dois homens para encontrar fortuna num remoto cemitério.'}, '1.': {'nome': 'O Poderoso Chefão', 'ano': 1972, 'sinopse': 'O patriarca idoso de uma dinastia do crime organizado transfere o controle de seu império clandestino para seu filho relutante.'}, '2.': {'nome': 'Um Sonho de Liberdade', 'ano': 1994, 'sinopse': 'Dois homens presos se reúnem ao longo de vários anos, encontrando consolo e eventual redenção através de atos de decência comum.'}}\n",
            "Quantidade de filmes: 10\n"
          ]
        }
      ]
    }
  ]
}