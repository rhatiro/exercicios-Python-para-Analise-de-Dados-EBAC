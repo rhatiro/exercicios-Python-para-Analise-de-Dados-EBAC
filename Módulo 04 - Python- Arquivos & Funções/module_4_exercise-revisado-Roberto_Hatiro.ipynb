{
  "cells": [
    {
      "cell_type": "markdown",
      "metadata": {
        "id": "KJqp9AANOCtf"
      },
      "source": [
        "<img src=\"https://raw.githubusercontent.com/andre-marcos-perez/ebac-course-utils/main/media/logo/newebac_logo_black_half.png\" alt=\"ebac-logo\">\n",
        "\n",
        "---\n",
        "\n",
        "# **Módulo** | Python: Arquivos & Funções\n",
        "Caderno de **Exercícios**<br> \n",
        "Professor [André Perez](https://www.linkedin.com/in/andremarcosperez/)\n",
        "\n",
        "Aluno [Roberto Hatiro](https://www.linkedin.com/in/rhatiro/)<br>\n",
        "Data: 10 de janeiro de 2023.\n",
        "\n",
        "---"
      ]
    },
    {
      "cell_type": "markdown",
      "metadata": {
        "id": "d9jDtUbDOE1-"
      },
      "source": [
        "# **Tópicos**\n",
        "\n",
        "<ol type=\"1\">\n",
        "  <li>Leitura;</li>\n",
        "  <li>Escrita;</li>\n",
        "  <li>Funções;</li>\n",
        "  <li>Escopo.</li>\n",
        "</ol>"
      ]
    },
    {
      "cell_type": "markdown",
      "metadata": {
        "id": "SmoHgt-lwkpD"
      },
      "source": [
        "---"
      ]
    },
    {
      "cell_type": "markdown",
      "metadata": {
        "id": "GABI6OW8OfQ2"
      },
      "source": [
        "# **Exercícios**"
      ]
    },
    {
      "cell_type": "markdown",
      "metadata": {
        "id": "muD1vxozykSC"
      },
      "source": [
        "## 0\\. Preparação do ambiente"
      ]
    },
    {
      "cell_type": "markdown",
      "metadata": {
        "id": "ahrFfCuBxJKs"
      },
      "source": [
        "Neste exercício vamos trabalhar com os arquivos de csv e texto definidos abaixo. Execute cada uma das células de código para escrever os arquivos na sua máquina virtual."
      ]
    },
    {
      "cell_type": "markdown",
      "metadata": {
        "id": "u0uFuhRSq_hQ"
      },
      "source": [
        "* **carros.csv**: arquivo csv com informações sobre carros (venda, manutenção, portas, etc.)."
      ]
    },
    {
      "cell_type": "code",
      "execution_count": 1,
      "metadata": {
        "id": "daMf-xaXqKs2",
        "colab": {
          "base_uri": "https://localhost:8080/"
        },
        "outputId": "8a0d7f52-5077-475a-a898-6774f1515b9d"
      },
      "outputs": [
        {
          "output_type": "stream",
          "name": "stdout",
          "text": [
            "Writing carros.csv\n"
          ]
        }
      ],
      "source": [
        "%%writefile carros.csv\n",
        "id,valor_venda,valor_manutencao,portas,pessoas,porta_malas\n",
        "1,vhigh,med,2,2,small\n",
        "2,med,vhigh,2,2,small\n",
        "3,low,vhigh,2,2,small\n",
        "4,low,high,2,2,small\n",
        "5,low,high,2,2,small\n",
        "6,low,high,4,4,big\n",
        "7,low,high,4,4,big\n",
        "8,low,med,2,2,small\n",
        "9,low,med,2,2,small\n",
        "10,low,med,2,2,small\n",
        "11,low,med,4,4,big\n",
        "12,low,low,2,2,small\n",
        "13,low,low,4,4,small\n",
        "14,low,low,4,4,med"
      ]
    },
    {
      "cell_type": "markdown",
      "metadata": {
        "id": "X0Z2PhbCrTz1"
      },
      "source": [
        "* **musica.txt**: arquivo texto com a letra da música Roda Viva do Chico Buarque."
      ]
    },
    {
      "cell_type": "code",
      "execution_count": 2,
      "metadata": {
        "id": "m7Ge2rggrU73",
        "colab": {
          "base_uri": "https://localhost:8080/"
        },
        "outputId": "e8bb3003-bc84-4c9c-c9f1-8509213ecca3"
      },
      "outputs": [
        {
          "output_type": "stream",
          "name": "stdout",
          "text": [
            "Writing musica.txt\n"
          ]
        }
      ],
      "source": [
        "%%writefile musica.txt\n",
        "Roda Viva\n",
        "Chico Buarque\n",
        "\n",
        "Tem dias que a gente se sente\n",
        "Como quem partiu ou morreu\n",
        "A gente estancou de repente\n",
        "Ou foi o mundo então que cresceu\n",
        "A gente quer ter voz ativa\n",
        "No nosso destino mandar\n",
        "Mas eis que chega a roda viva\n",
        "E carrega o destino pra lá\n",
        "\n",
        "Roda mundo, roda-gigante\n",
        "Roda moinho, roda pião\n",
        "\n",
        "O tempo rodou num instante\n",
        "Nas voltas do meu coração\n",
        "A gente vai contra a corrente\n",
        "Até não poder resistir\n",
        "Na volta do barco é que sente\n",
        "O quanto deixou de cumprir\n",
        "Faz tempo que a gente cultiva\n",
        "A mais linda roseira que há\n",
        "Mas eis que chega a roda viva\n",
        "E carrega a roseira pra lá\n",
        "\n",
        "Roda mundo, roda-gigante\n",
        "Roda moinho, roda pião"
      ]
    },
    {
      "cell_type": "markdown",
      "metadata": {
        "id": "zMN1Q3jdwoJm"
      },
      "source": [
        "---"
      ]
    },
    {
      "cell_type": "markdown",
      "metadata": {
        "id": "cis2Lj4Dk_9Y"
      },
      "source": [
        "## 1. Extração de coluna de arquivo csv "
      ]
    },
    {
      "cell_type": "markdown",
      "metadata": {
        "id": "0geffuAuk_9Y"
      },
      "source": [
        "1.1. Extraia os valores `valor_venda` e armazene em uma lista."
      ]
    },
    {
      "cell_type": "code",
      "execution_count": 3,
      "metadata": {
        "colab": {
          "base_uri": "https://localhost:8080/"
        },
        "id": "k8D4o1_3k_9Z",
        "outputId": "306c7ae2-c2f4-40ed-ce52-123ef273c1ab"
      },
      "outputs": [
        {
          "output_type": "stream",
          "name": "stdout",
          "text": [
            "['vhigh', 'med', 'low', 'low', 'low', 'low', 'low', 'low', 'low', 'low', 'low', 'low', 'low', 'low']\n"
          ]
        }
      ],
      "source": [
        "valor_venda = []\n",
        "\n",
        "with open(file='./carros.csv', mode='r', encoding='utf8') as arquivo:\n",
        "    # lê o cabeçalho\n",
        "    linha = arquivo.readline()\n",
        "    # lê a primeira linha\n",
        "    linha = arquivo.readline()\n",
        "    while linha:\n",
        "        # quebra a string nas virgulas e salva os resultados em uma lista\n",
        "        linha_separada = linha.split(sep=',')\n",
        "        # seleciona o segundo elemento da lista\n",
        "        segundo_elemento = linha_separada[1]\n",
        "        # salva o valor na lista de valor_venda\n",
        "        valor_venda.append(segundo_elemento)\n",
        "        # lê uma nova linha, se a linha não existir, salva o valor None\n",
        "        linha = arquivo.readline()\n",
        "\n",
        "print(valor_venda)"
      ]
    },
    {
      "cell_type": "markdown",
      "metadata": {
        "id": "7RqJphaik_9a"
      },
      "source": [
        "1.2 Complete a função abaixo para extrair uma coluna, do arquivo csv em uma lista.\n"
      ]
    },
    {
      "cell_type": "code",
      "execution_count": 4,
      "metadata": {
        "id": "FZLfsAEjk_9a"
      },
      "outputs": [],
      "source": [
        "def extrai_coluna_csv(nome_arquivo: str, indice_coluna: int) -> list:\n",
        "\n",
        "  coluna = []\n",
        "\n",
        "  # leia o arquivo com o comando 'with' utilizando o parametro 'nome_arquivo'\n",
        "  with open(file=nome_arquivo, mode='r', encoding='utf8') as arquivo:\n",
        "    linha = arquivo.readline()\n",
        "    linha = arquivo.readline()\n",
        "  # extraia a coluna do arquivo utilizando o parametro 'indice_coluna'\n",
        "    while linha:\n",
        "      linha_separada = linha.split(',')\n",
        "      elemento = linha_separada[indice_coluna]\n",
        "      elemento = elemento.replace('\\n', '') # Método replace para remover o caractere especial '\\n' de quebra de linha\n",
        "      coluna.append(elemento)\n",
        "      linha = arquivo.readline()\n",
        "\n",
        "  return coluna"
      ]
    },
    {
      "cell_type": "markdown",
      "metadata": {
        "id": "f45RME0hk_9b"
      },
      "source": [
        "Você pode testar a função com os códigos abaixo."
      ]
    },
    {
      "cell_type": "code",
      "execution_count": 5,
      "metadata": {
        "colab": {
          "base_uri": "https://localhost:8080/"
        },
        "id": "9FccLPq0k_9b",
        "outputId": "52609a7a-56ec-48f8-ea28-8c65ec639464"
      },
      "outputs": [
        {
          "output_type": "stream",
          "name": "stdout",
          "text": [
            "['med', 'vhigh', 'vhigh', 'high', 'high', 'high', 'high', 'med', 'med', 'med', 'med', 'low', 'low', 'low']\n"
          ]
        }
      ],
      "source": [
        "# extrair a coluna valor_manutencao\n",
        "valor_manutencao = extrai_coluna_csv(nome_arquivo='./carros.csv', indice_coluna=2)\n",
        "print(valor_manutencao) # deve retornar ['med', 'vhigh', 'vhigh', ...]"
      ]
    },
    {
      "cell_type": "code",
      "execution_count": 6,
      "metadata": {
        "colab": {
          "base_uri": "https://localhost:8080/"
        },
        "id": "3DrIUhXjk_9c",
        "outputId": "18bb8213-a09c-41db-8274-d3e88e8c54ba"
      },
      "outputs": [
        {
          "output_type": "stream",
          "name": "stdout",
          "text": [
            "['small', 'small', 'small', 'small', 'small', 'big', 'big', 'small', 'small', 'small', 'big', 'small', 'small', 'med']\n"
          ]
        }
      ],
      "source": [
        "# extrair a coluna porta_malas\n",
        "porta_malas = extrai_coluna_csv(nome_arquivo='./carros.csv', indice_coluna=5)\n",
        "print(porta_malas) # deve retornar ['small', 'small', 'small', ...]"
      ]
    },
    {
      "cell_type": "markdown",
      "source": [
        "---"
      ],
      "metadata": {
        "id": "taesrqbDR_25"
      }
    },
    {
      "cell_type": "code",
      "source": [
        "# Código extra para CRIAR arquivo .csv com o cabeçalho dos valores da célula seguinte:\n",
        "\n",
        "# Cabeçalho (mode='w')\n",
        "with open(file='carros-valor_manutencao_e_porta-malas.csv', mode='w', encoding='utf8') as fp:\n",
        "  fp.write('Id, Valor de manutenção, Porta-malas\\n')"
      ],
      "metadata": {
        "id": "uuJacDMJN7HQ"
      },
      "execution_count": 7,
      "outputs": []
    },
    {
      "cell_type": "code",
      "source": [
        "# Código extra para ADICIONAR ao arquivo .csv os valores das listas criadas anteriormente de 'valor_manutencao' e 'porta_malas':\n",
        "\n",
        "# Valores (mode='a')\n",
        "with open(file='carros-valor_manutencao_e_porta-malas.csv', mode='a', encoding='utf8') as fp:\n",
        "  counter = 0\n",
        "  for valor in valor_manutencao:\n",
        "    fp.write(f'{str(counter + 1)}, {valor}, {porta_malas[counter]}\\n')\n",
        "    counter += 1"
      ],
      "metadata": {
        "id": "a0_rMz4kZNxD"
      },
      "execution_count": 8,
      "outputs": []
    },
    {
      "cell_type": "markdown",
      "source": [
        "---"
      ],
      "metadata": {
        "id": "HKk2mIK5XEvh"
      }
    },
    {
      "cell_type": "markdown",
      "metadata": {
        "id": "nM5HT9yGk_9d"
      },
      "source": [
        "# Exercício bônus"
      ]
    },
    {
      "cell_type": "markdown",
      "metadata": {
        "id": "U4S19ZvHsPcE"
      },
      "source": [
        "## 1\\. Funções para arquivo csv"
      ]
    },
    {
      "cell_type": "markdown",
      "metadata": {
        "id": "Mcf3mkOrtHzK"
      },
      "source": [
        "Complete a função abaixo para extrair uma coluna do arquivo csv em uma lista. Os elementos devem ter o tipo de dado correto."
      ]
    },
    {
      "cell_type": "code",
      "source": [
        "def extrai_coluna_csv(nome_arquivo: str, indice_coluna: int, tipo_dado: str) -> list:\n",
        "\n",
        "  coluna = []\n",
        "\n",
        "  # leia o arquivo com o comando 'with' utilizando o parametro 'nome_arquivo'\n",
        "  with open(file=nome_arquivo, mode='r', encoding='utf8') as arquivo:\n",
        "    linha = arquivo.readline()\n",
        "    linha = arquivo.readline()\n",
        "  # extraia a coluna do arquivo utilizando o parametro 'indice_coluna'\n",
        "    while linha:\n",
        "      linha_separada = linha.split(',')\n",
        "      elemento = linha_separada[indice_coluna]\n",
        "  # use a estrutura de decisão if/elif/else para fazer a conversão do tipo de dados utilizando o parametro 'tipo_dado'\n",
        "      if tipo_dado == 'str':\n",
        "        coluna.append(str(elemento))\n",
        "      elif (tipo_dado == 'int'):\n",
        "        coluna.append(int(elemento))\n",
        "      elif (tipo_dado == 'float'):\n",
        "        coluna.append(float(elemento))\n",
        "      elif (tipo_dado == 'bool'):\n",
        "        coluna.append(bool(elemento))\n",
        "      else:\n",
        "        coluna.append(elemento)\n",
        "      linha = arquivo.readline()\n",
        "\n",
        "  return coluna"
      ],
      "metadata": {
        "id": "USuwICZzFjDL"
      },
      "execution_count": 9,
      "outputs": []
    },
    {
      "cell_type": "markdown",
      "metadata": {
        "id": "qCbQF6jru_01"
      },
      "source": [
        "Você pode testar a função com os códigos abaixo."
      ]
    },
    {
      "cell_type": "code",
      "execution_count": 10,
      "metadata": {
        "id": "Rl-EYdySu90s",
        "colab": {
          "base_uri": "https://localhost:8080/"
        },
        "outputId": "1dafbf8e-248b-430d-a458-76c490959e4a"
      },
      "outputs": [
        {
          "output_type": "stream",
          "name": "stdout",
          "text": [
            "['vhigh', 'med', 'low', 'low', 'low', 'low', 'low', 'low', 'low', 'low', 'low', 'low', 'low', 'low']\n"
          ]
        }
      ],
      "source": [
        "# extrair a coluna valor_venda\n",
        "valor_venda = extrai_coluna_csv(nome_arquivo='./carros.csv', indice_coluna=1, tipo_dado='str')\n",
        "print(valor_venda) # deve retornar ['vhigh', 'med', 'low', ...]"
      ]
    },
    {
      "cell_type": "code",
      "execution_count": 11,
      "metadata": {
        "id": "hvD-zzwDwboD",
        "colab": {
          "base_uri": "https://localhost:8080/"
        },
        "outputId": "2ba4c547-6eb3-4308-d43e-5d70df730ee6"
      },
      "outputs": [
        {
          "output_type": "stream",
          "name": "stdout",
          "text": [
            "[2, 2, 2, 2, 2, 4, 4, 2, 2, 2, 4, 2, 4, 4]\n"
          ]
        }
      ],
      "source": [
        "# extrair a coluna pessoas\n",
        "pessoas = extrai_coluna_csv(nome_arquivo='./carros.csv', indice_coluna=4, tipo_dado='int')\n",
        "print(pessoas) # deve retornar [2, 2, 2, ...]"
      ]
    },
    {
      "cell_type": "markdown",
      "metadata": {
        "id": "QTS5-sSbs4ie"
      },
      "source": [
        "---"
      ]
    },
    {
      "cell_type": "markdown",
      "metadata": {
        "id": "sebqs6uztCH4"
      },
      "source": [
        "## 2\\. Funções para arquivo txt"
      ]
    },
    {
      "cell_type": "markdown",
      "metadata": {
        "id": "IFVBGkNhzB3P"
      },
      "source": [
        "Complete a função abaixo para extrair uma das palavras de uma linha do arquivo txt em uma lista."
      ]
    },
    {
      "cell_type": "code",
      "execution_count": 12,
      "metadata": {
        "id": "ewrNqMtczWZJ"
      },
      "outputs": [],
      "source": [
        "def extrai_linha_txt(nome_arquivo: str, numero_linha: int) -> list:\n",
        "\n",
        "  palavras_linha = []\n",
        "\n",
        "  # leia o arquivo com o comando 'with' utilizando o parametro 'nome_arquivo'\n",
        "  with open(file=nome_arquivo, mode='r', encoding='utf8') as arquivo:\n",
        "  # extraia a linha do arquivo utilizando o parametro 'numero_linha'\n",
        "    for linha in range(numero_linha):\n",
        "      linha = arquivo.readline()\n",
        "  # quebre a linha em palavras com o comando split, note que o separador é um espaço ' '\n",
        "    palavras_linha = linha.split()\n",
        "\n",
        "  return palavras_linha"
      ]
    },
    {
      "cell_type": "markdown",
      "metadata": {
        "id": "Qz2UwipIz0t2"
      },
      "source": [
        "Você pode testar a função com os códigos abaixo."
      ]
    },
    {
      "cell_type": "code",
      "execution_count": 13,
      "metadata": {
        "id": "_Wxp43qqz1V2",
        "colab": {
          "base_uri": "https://localhost:8080/"
        },
        "outputId": "7a3cb694-3d9b-41de-a455-571342f8d31c"
      },
      "outputs": [
        {
          "output_type": "stream",
          "name": "stdout",
          "text": [
            "['Mas', 'eis', 'que', 'chega', 'a', 'roda', 'viva']\n"
          ]
        }
      ],
      "source": [
        "linha10 = extrai_linha_txt(nome_arquivo='./musica.txt', numero_linha=10)\n",
        "print(linha10) # deve retornar ['Mas', 'eis', 'que', 'chega', 'a', 'roda', 'viva']"
      ]
    },
    {
      "cell_type": "markdown",
      "metadata": {
        "id": "Fo9qTjietCH6"
      },
      "source": [
        "---"
      ]
    },
    {
      "cell_type": "code",
      "source": [
        "# Função para checar existência de alguma palavra em uma determinada linha e retornar o resultado:\n",
        "\n",
        "def existe_palavra_linha(nome_arquivo: str, numero_linha: int, palavra: str) -> bool:\n",
        "  with open(file=nome_arquivo, mode='r', encoding='utf8') as arquivo:\n",
        "    for linha in range(numero_linha):\n",
        "      linha = arquivo.readline().replace('\\n', '')\n",
        "\n",
        "    line = linha.replace(',', '').replace('-', ' ').split()\n",
        "\n",
        "    answer = False\n",
        "\n",
        "    for word in line:\n",
        "      if word.lower() == palavra.lower():\n",
        "        answer = True\n",
        "        print(f'Linha {numero_linha}:\\n\"{linha}\"\\n')\n",
        "        break\n",
        "      else:\n",
        "        if word == line[-1]:\n",
        "          print(f'Linha {numero_linha}:\\n\"{linha}\"\\n')\n",
        "\n",
        "  return answer"
      ],
      "metadata": {
        "id": "oPoZmdbN-OY0"
      },
      "execution_count": 14,
      "outputs": []
    },
    {
      "cell_type": "code",
      "source": [
        "# Teste da função:\n",
        "\n",
        "existe_palavra_linha(nome_arquivo='./musica.txt', numero_linha=13, palavra='roda')"
      ],
      "metadata": {
        "id": "gihSbLOT23KG",
        "colab": {
          "base_uri": "https://localhost:8080/"
        },
        "outputId": "e65ec4c5-2ffa-4b09-b636-bee9639831c1"
      },
      "execution_count": 15,
      "outputs": [
        {
          "output_type": "stream",
          "name": "stdout",
          "text": [
            "Linha 13:\n",
            "\"Roda mundo, roda-gigante\"\n",
            "\n"
          ]
        },
        {
          "output_type": "execute_result",
          "data": {
            "text/plain": [
              "True"
            ]
          },
          "metadata": {},
          "execution_count": 15
        }
      ]
    },
    {
      "cell_type": "code",
      "source": [
        "# Função para checar existência de alguma palavra na letra da música, informar a quantidade, a linha e retornar o resultado:\n",
        "\n",
        "def existe_palavra_musica(nome_arquivo: str, palavra: str) -> bool:\n",
        "  with open(file=nome_arquivo, mode='r', encoding='utf8') as fp:\n",
        "    music = fp.read()\n",
        "    music_lyrics = music.split('\\n')\n",
        "    line_number = 1\n",
        "    answer = False\n",
        "    for line in music_lyrics:\n",
        "      line = line.replace(',', '').replace('-', ' ')\n",
        "      words = line.split()\n",
        "      quantity = 0\n",
        "      for word in words:\n",
        "        if word.lower() == palavra.lower():\n",
        "          quantity += 1\n",
        "          answer = True\n",
        "      if quantity == 1:\n",
        "        print(f\"A palavra '{palavra}' aparece {quantity} vez na linha {line_number}.\")\n",
        "      elif quantity > 1:\n",
        "        print(f\"A palavra '{palavra}' aparece {quantity} vezes na linha {line_number}.\")\n",
        "      line_number += 1\n",
        "    if answer == False:\n",
        "      print(f\"A palavra '{palavra}' não aparece na letra da música.\")\n",
        "  \n",
        "  print()\n",
        "  return answer"
      ],
      "metadata": {
        "id": "qj31T11U0LfZ"
      },
      "execution_count": 16,
      "outputs": []
    },
    {
      "cell_type": "code",
      "source": [
        "# Teste da função:\n",
        "\n",
        "existe_palavra_musica(nome_arquivo='./musica.txt', palavra='roda')"
      ],
      "metadata": {
        "id": "LduZQ705zsUb",
        "colab": {
          "base_uri": "https://localhost:8080/"
        },
        "outputId": "169ecc20-373a-4d14-80c3-37cc43477074"
      },
      "execution_count": 17,
      "outputs": [
        {
          "output_type": "stream",
          "name": "stdout",
          "text": [
            "A palavra 'roda' aparece 1 vez na linha 1.\n",
            "A palavra 'roda' aparece 1 vez na linha 10.\n",
            "A palavra 'roda' aparece 2 vezes na linha 13.\n",
            "A palavra 'roda' aparece 2 vezes na linha 14.\n",
            "A palavra 'roda' aparece 1 vez na linha 24.\n",
            "A palavra 'roda' aparece 2 vezes na linha 27.\n",
            "A palavra 'roda' aparece 2 vezes na linha 28.\n",
            "\n"
          ]
        },
        {
          "output_type": "execute_result",
          "data": {
            "text/plain": [
              "True"
            ]
          },
          "metadata": {},
          "execution_count": 17
        }
      ]
    },
    {
      "cell_type": "markdown",
      "source": [
        "---"
      ],
      "metadata": {
        "id": "zymTr1qcOzGg"
      }
    }
  ],
  "metadata": {
    "colab": {
      "provenance": []
    },
    "kernelspec": {
      "display_name": "Python 3 (ipykernel)",
      "language": "python",
      "name": "python3"
    },
    "language_info": {
      "codemirror_mode": {
        "name": "ipython",
        "version": 3
      },
      "file_extension": ".py",
      "mimetype": "text/x-python",
      "name": "python",
      "nbconvert_exporter": "python",
      "pygments_lexer": "ipython3",
      "version": "3.9.7"
    }
  },
  "nbformat": 4,
  "nbformat_minor": 0
}